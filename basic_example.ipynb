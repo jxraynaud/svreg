{
 "cells": [
  {
   "cell_type": "code",
   "execution_count": 1,
   "metadata": {},
   "outputs": [
    {
     "name": "stderr",
     "output_type": "stream",
     "text": [
      "Intel(R) Extension for Scikit-learn* enabled (https://github.com/intel/scikit-learn-intelex)\n"
     ]
    }
   ],
   "source": [
    "import numpy as np\n",
    "import pandas as pd\n",
    "import matplotlib.pyplot as plt\n",
    "import seaborn as sns\n",
    "import os\n",
    "\n",
    "from sklearn.preprocessing import StandardScaler\n",
    "from scipy.stats import pearsonr\n",
    "from icecream import ic\n",
    "\n",
    "from svreg.svreg import SvRegression\n",
    "\n",
    "# Fixing numpy random seed (used by sklearn) for reproducibility:\n",
    "np.random.seed(seed=4242)\n",
    "\n",
    "# Autoreload of the module.\n",
    "%load_ext autoreload\n",
    "%autoreload 2\n"
   ]
  },
  {
   "cell_type": "code",
   "execution_count": 2,
   "metadata": {},
   "outputs": [],
   "source": [
    "name_dataset = \"mtcars.csv\"\n",
    "path_dataset = os.path.join(\"data\", name_dataset)\n",
    "index_col = \"model\"\n",
    "target = \"mpg\"\n",
    "\n",
    "data_sv = pd.read_csv(path_dataset,\n",
    "                      index_col=index_col)"
   ]
  },
  {
   "cell_type": "code",
   "execution_count": 3,
   "metadata": {},
   "outputs": [
    {
     "name": "stdout",
     "output_type": "stream",
     "text": [
      "32 rows in the dataset.\n",
      "10 features in the dataset.\n"
     ]
    }
   ],
   "source": [
    "# Splitting dataset in features and target.\n",
    "x_features = data_sv.drop(labels=target, axis=1)\n",
    "y_target = data_sv[target]\n",
    "\n",
    "nb_rows, nb_features = x_features.shape\n",
    "print(f\"{nb_rows} rows in the dataset.\")\n",
    "print(f\"{nb_features} features in the dataset.\")"
   ]
  },
  {
   "cell_type": "code",
   "execution_count": 4,
   "metadata": {},
   "outputs": [
    {
     "name": "stdout",
     "output_type": "stream",
     "text": [
      "0 rows have been deleted due to missing values.\n",
      "32 rows in the dataset.\n",
      "10 features (regressors) present in the dataset.\n",
      "10 features have been selected.\n",
      "Computing the 1024 linears regressions.\n",
      "Linear regressions |████████████████████████████████████████⚠︎ (!) 1023/1024 [100%] in 0.7s (1482.11/s) \n"
     ]
    }
   ],
   "source": [
    "sv_reg = SvRegression(\n",
    "    data=data_sv,\n",
    "    #regressors_selected=[\"cyl\", \"disp\", \"hp\", \"drat\", \"vs\", \"am\"],\n",
    "    target=target,\n",
    ")\n",
    "\n",
    "# Fitting the regression.\n",
    "coeffs = sv_reg.fit()\n",
    "\n",
    "# Coefficients without noise:\n",
    "coeffs_sv_without_noise = sv_reg.coeffs"
   ]
  },
  {
   "cell_type": "code",
   "execution_count": 5,
   "metadata": {},
   "outputs": [
    {
     "name": "stdout",
     "output_type": "stream",
     "text": [
      "======================================================================\n",
      "Per predictor Shapley value (normalized basis).\n",
      "[('wt', 0.03827072937974526), ('disp', 0.04409331639936167), ('drat', 0.06588051899996777), ('cyl', 0.06726590503285149), ('vs', 0.07327014306617548), ('hp', 0.07337622664887265), ('am', 0.10698627193131996), ('gear', 0.12023870212756886), ('carb', 0.12134515464152582), ('qsec', 0.1582887962503759)]\n",
      "======================================================================\n",
      "Coefficients of the SV regression (normalized basis).\n",
      "[('carb', -0.22025709191629558), ('hp', -0.09453648114544219), ('cyl', -0.07893558764124148), ('disp', -0.05202435802503294), ('wt', -0.0441080110646224), ('drat', 0.09671643566759991), ('vs', 0.11034013362113926), ('am', 0.1783602664307249), ('gear', 0.2503487780744625), ('qsec', 0.3780626520856265)]\n",
      "======================================================================\n",
      "Coefficients of the SV regression (unnormalized basis).\n",
      "sv_reg.coeffs[0] --> intercept term.\n",
      "[('intercept', -196.21723005803858), ('carb', -0.8218660657920691), ('wt', -0.2716895796256413), ('cyl', -0.26638385115510543), ('hp', -0.008310131612705619), ('disp', -0.0025298645125850627), ('drat', 1.090196587646735), ('qsec', 1.2751182681841051), ('vs', 1.3194305011876384), ('gear', 2.0450403452755466), ('am', 2.1542838220172884)]\n",
      "======================================================================\n",
      "Checking that the Shapley Values sums up to the full model R^2.\n",
      "{'r_squared_full': 0.8690157644777647, 'sum_shaps': 0.8690157644777649}\n",
      "======================================================================\n"
     ]
    }
   ],
   "source": [
    "print(\"=\" * 70)\n",
    "print(\"Per predictor Shapley value (normalized basis).\")\n",
    "print(sv_reg.shaps)\n",
    "print(\"=\" * 70)\n",
    "print(\"Coefficients of the SV regression (normalized basis).\")\n",
    "print(sv_reg.coeffs_norm)\n",
    "print(\"=\" * 70)\n",
    "print(\"Coefficients of the SV regression (unnormalized basis).\")\n",
    "print(\"sv_reg.coeffs[0] --> intercept term.\")\n",
    "print(sv_reg.coeffs)\n",
    "print(\"=\" * 70)\n",
    "print(\"Checking that the Shapley Values sums up to the full model R^2.\")\n",
    "print(sv_reg.check_norm_shap())\n",
    "print(\"=\" * 70)"
   ]
  },
  {
   "cell_type": "code",
   "execution_count": 6,
   "metadata": {},
   "outputs": [
    {
     "data": {
      "image/png": "[encoded data removed]",
      "text/plain": [
       "<Figure size 1000x500 with 1 Axes>"
      ]
     },
     "metadata": {},
     "output_type": "display_data"
    }
   ],
   "source": [
    "sv_reg.histo_shaps()"
   ]
  },
  {
   "cell_type": "code",
   "execution_count": null,
   "metadata": {},
   "outputs": [],
   "source": []
  }
 ],
 "metadata": {
  "kernelspec": {
   "display_name": ".venv310",
   "language": "python",
   "name": "python3"
  },
  "language_info": {
   "codemirror_mode": {
    "name": "ipython",
    "version": 3
   },
   "file_extension": ".py",
   "mimetype": "text/x-python",
   "name": "python",
   "nbconvert_exporter": "python",
   "pygments_lexer": "ipython3",
   "version": "3.10.8"
  },
  "orig_nbformat": 4,
  "vscode": {
   "interpreter": {
    "hash": "7fe4921fa6b21b0607ec27c46f57ab1c68b60b3abd2683c81acbfb96e1f5e9fe"
   }
  }
 },
 "nbformat": 4,
 "nbformat_minor": 2
}
