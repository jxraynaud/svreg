{
 "cells": [
  {
   "cell_type": "code",
   "execution_count": 1,
   "metadata": {},
   "outputs": [
    {
     "name": "stderr",
     "output_type": "stream",
     "text": [
      "Intel(R) Extension for Scikit-learn* enabled (https://github.com/intel/scikit-learn-intelex)\n"
     ]
    }
   ],
   "source": [
    "import numpy as np\n",
    "import pandas as pd\n",
    "import matplotlib.pyplot as plt\n",
    "import seaborn as sns\n",
    "import os\n",
    "\n",
    "from sklearn.preprocessing import StandardScaler\n",
    "from scipy.stats import pearsonr\n",
    "from icecream import ic\n",
    "\n",
    "from sv_regression.sv_regression import SvRegression\n",
    "\n",
    "# Fixing numpy random seed (used by sklearn) for reproducibility:\n",
    "np.random.seed(seed=4242)"
   ]
  },
  {
   "cell_type": "code",
   "execution_count": 2,
   "metadata": {},
   "outputs": [],
   "source": [
    "name_dataset = \"mtcars.csv\"\n",
    "num_features_retained = 10\n",
    "path_dataset = os.path.join(\"data\", name_dataset)\n",
    "index_col = \"model\"\n",
    "target = \"mpg\"\n",
    "\n",
    "data_sv = pd.read_csv(path_dataset,\n",
    "                      index_col=index_col)\n",
    "data_sv = data_sv.iloc[:, :(num_features_retained + 1)]  # +1 to retain the target feature as well.\n",
    "\n",
    "# # Counting the number of missing values per column.\n",
    "# print(data_sv.isna().sum())"
   ]
  },
  {
   "cell_type": "code",
   "execution_count": 3,
   "metadata": {},
   "outputs": [
    {
     "name": "stdout",
     "output_type": "stream",
     "text": [
      "32 rows in the dataset.\n",
      "10 features in the dataset.\n"
     ]
    }
   ],
   "source": [
    "# Splitting dataset in features and target.\n",
    "x_features = data_sv.drop(labels=target, axis=1)\n",
    "y_target = data_sv[target]\n",
    "\n",
    "nb_rows, nb_features = x_features.shape\n",
    "print(f\"{nb_rows} rows in the dataset.\")\n",
    "print(f\"{nb_features} features in the dataset.\")"
   ]
  },
  {
   "cell_type": "code",
   "execution_count": 4,
   "metadata": {},
   "outputs": [
    {
     "name": "stdout",
     "output_type": "stream",
     "text": [
      "0 rows have been deleted due to missing values.\n",
      "32 rows in the dataset.\n",
      "10 features (regressors) present in the dataset.\n",
      "4 features selected.\n"
     ]
    },
    {
     "ename": "AssertionError",
     "evalue": "target_pred must be in predictors",
     "output_type": "error",
     "traceback": [
      "\u001b[0;31m---------------------------------------------------------------------------\u001b[0m",
      "\u001b[0;31mAssertionError\u001b[0m                            Traceback (most recent call last)",
      "Cell \u001b[0;32mIn[4], line 9\u001b[0m\n\u001b[1;32m      1\u001b[0m sv_reg \u001b[39m=\u001b[39m SvRegression(\n\u001b[1;32m      2\u001b[0m     data\u001b[39m=\u001b[39mdata_sv,\n\u001b[1;32m      3\u001b[0m     \u001b[39m#ind_predictors_selected=list(range(10)),\u001b[39;00m\n\u001b[1;32m      4\u001b[0m     ind_predictors_selected\u001b[39m=\u001b[39m[\u001b[39m3\u001b[39m, \u001b[39m7\u001b[39m, \u001b[39m2\u001b[39m, \u001b[39m5\u001b[39m],\n\u001b[1;32m      5\u001b[0m     target\u001b[39m=\u001b[39mtarget,\n\u001b[1;32m      6\u001b[0m )\n\u001b[1;32m      8\u001b[0m \u001b[39m# Fitting the regression.\u001b[39;00m\n\u001b[0;32m----> 9\u001b[0m coeffs \u001b[39m=\u001b[39m sv_reg\u001b[39m.\u001b[39;49mfit()\n\u001b[1;32m     11\u001b[0m \u001b[39m# Coefficients without noise:\u001b[39;00m\n\u001b[1;32m     12\u001b[0m coeffs_sv_without_noise \u001b[39m=\u001b[39m sv_reg\u001b[39m.\u001b[39mcoeffs\n",
      "File \u001b[0;32m~/PixelForest/econometry/sv_regression/sv_regression/sv_regression.py:313\u001b[0m, in \u001b[0;36mSvRegression.fit\u001b[0;34m(self)\u001b[0m\n\u001b[1;32m    310\u001b[0m target \u001b[39m=\u001b[39m \u001b[39mself\u001b[39m\u001b[39m.\u001b[39my_targets_norm\u001b[39m.\u001b[39mravel()\n\u001b[1;32m    312\u001b[0m \u001b[39mfor\u001b[39;00m ind_feat \u001b[39min\u001b[39;00m \u001b[39mrange\u001b[39m(\u001b[39m0\u001b[39m, \u001b[39mself\u001b[39m\u001b[39m.\u001b[39mnum_feat_selec):\n\u001b[0;32m--> 313\u001b[0m     curr_shap \u001b[39m=\u001b[39m \u001b[39mself\u001b[39;49m\u001b[39m.\u001b[39;49mcompute_shapley(ind_feat\u001b[39m=\u001b[39;49mind_feat)\n\u001b[1;32m    314\u001b[0m     \u001b[39mself\u001b[39m\u001b[39m.\u001b[39mcoeffs[ind_feat] \u001b[39m=\u001b[39m curr_shap\n\u001b[1;32m    315\u001b[0m     \u001b[39mself\u001b[39m\u001b[39m.\u001b[39mshaps[ind_feat] \u001b[39m=\u001b[39m curr_shap\n",
      "File \u001b[0;32m~/PixelForest/econometry/sv_regression/sv_regression/sv_regression.py:270\u001b[0m, in \u001b[0;36mSvRegression.compute_shapley\u001b[0;34m(self, ind_feat)\u001b[0m\n\u001b[1;32m    268\u001b[0m num_predictors \u001b[39m=\u001b[39m \u001b[39mself\u001b[39m\u001b[39m.\u001b[39mnum_feat_selec\n\u001b[1;32m    269\u001b[0m predictors \u001b[39m=\u001b[39m \u001b[39mself\u001b[39m\u001b[39m.\u001b[39mind_predictors_selected\n\u001b[0;32m--> 270\u001b[0m \u001b[39massert\u001b[39;00m ind_feat \u001b[39min\u001b[39;00m \u001b[39mself\u001b[39m\u001b[39m.\u001b[39mind_predictors_selected, \u001b[39m\"\u001b[39m\u001b[39mtarget_pred must be in predictors\u001b[39m\u001b[39m\"\u001b[39m\n\u001b[1;32m    271\u001b[0m feat \u001b[39m=\u001b[39m predictors[ind_feat]\n\u001b[1;32m    272\u001b[0m \u001b[39mif\u001b[39;00m \u001b[39mself\u001b[39m\u001b[39m.\u001b[39mlist_r_squared \u001b[39mis\u001b[39;00m \u001b[39mNone\u001b[39;00m:\n",
      "\u001b[0;31mAssertionError\u001b[0m: target_pred must be in predictors"
     ]
    }
   ],
   "source": [
    "sv_reg = SvRegression(\n",
    "    data=data_sv,\n",
    "    #ind_predictors_selected=list(range(10)),\n",
    "    ind_predictors_selected=[3, 7, 2, 5],\n",
    "    target=target,\n",
    ")\n",
    "\n",
    "# Fitting the regression.\n",
    "coeffs = sv_reg.fit()\n",
    "\n",
    "# Coefficients without noise:\n",
    "coeffs_sv_without_noise = sv_reg.coeffs"
   ]
  },
  {
   "cell_type": "code",
   "execution_count": 6,
   "metadata": {},
   "outputs": [
    {
     "name": "stdout",
     "output_type": "stream",
     "text": [
      "======================================================================\n",
      "Per predictor Shapley value (normalized basis).\n",
      "[0. 0. 0. 0.]\n",
      "======================================================================\n",
      "Coefficients of the SV regression (normalized basis).\n",
      "[0. 0. 0. 0.]\n",
      "======================================================================\n",
      "Coefficients of the SV regression (unnormalized basis).\n",
      "sv_reg.coeffs[0] --> intercept term.\n",
      "[0. 0. 0. 0.]\n",
      "======================================================================\n",
      "Checking that the Shapley Values sums up to the full model R^2.\n",
      "Computing the 16 linears regressions.\n",
      "Linear regressions |█████████████████████████████████████▌⚠︎ | (!) 15/16 [94%] in 0.0s (406.71/s) \n"
     ]
    },
    {
     "ename": "IndexError",
     "evalue": "list index out of range",
     "output_type": "error",
     "traceback": [
      "\u001b[0;31m---------------------------------------------------------------------------\u001b[0m",
      "\u001b[0;31mIndexError\u001b[0m                                Traceback (most recent call last)",
      "Cell \u001b[0;32mIn[6], line 13\u001b[0m\n\u001b[1;32m     11\u001b[0m \u001b[39mprint\u001b[39m(\u001b[39m\"\u001b[39m\u001b[39m=\u001b[39m\u001b[39m\"\u001b[39m \u001b[39m*\u001b[39m \u001b[39m70\u001b[39m)\n\u001b[1;32m     12\u001b[0m \u001b[39mprint\u001b[39m(\u001b[39m\"\u001b[39m\u001b[39mChecking that the Shapley Values sums up to the full model R^2.\u001b[39m\u001b[39m\"\u001b[39m)\n\u001b[0;32m---> 13\u001b[0m \u001b[39mprint\u001b[39m(sv_reg\u001b[39m.\u001b[39;49mcheck_norm_shap())\n\u001b[1;32m     14\u001b[0m \u001b[39mprint\u001b[39m(\u001b[39m\"\u001b[39m\u001b[39m=\u001b[39m\u001b[39m\"\u001b[39m \u001b[39m*\u001b[39m \u001b[39m70\u001b[39m)\n",
      "File \u001b[0;32m~/PixelForest/econometry/sv_regression/sv_regression/sv_regression.py:383\u001b[0m, in \u001b[0;36mSvRegression.check_norm_shap\u001b[0;34m(self)\u001b[0m\n\u001b[1;32m    381\u001b[0m predictors \u001b[39m=\u001b[39m \u001b[39mself\u001b[39m\u001b[39m.\u001b[39mind_predictors_selected\n\u001b[1;32m    382\u001b[0m \u001b[39mfor\u001b[39;00m ind_feat \u001b[39min\u001b[39;00m predictors:\n\u001b[0;32m--> 383\u001b[0m     shap \u001b[39m=\u001b[39m \u001b[39mself\u001b[39;49m\u001b[39m.\u001b[39;49mcompute_shapley(ind_feat\u001b[39m=\u001b[39;49mind_feat)\n\u001b[1;32m    384\u001b[0m     sum_shap \u001b[39m=\u001b[39m sum_shap \u001b[39m+\u001b[39m shap\n\u001b[1;32m    385\u001b[0m \u001b[39mreturn\u001b[39;00m {\u001b[39m\"\u001b[39m\u001b[39mr_squared_full\u001b[39m\u001b[39m\"\u001b[39m: r_squared_full, \u001b[39m\"\u001b[39m\u001b[39msum_shaps\u001b[39m\u001b[39m\"\u001b[39m: sum_shap}\n",
      "File \u001b[0;32m~/PixelForest/econometry/sv_regression/sv_regression/sv_regression.py:271\u001b[0m, in \u001b[0;36mSvRegression.compute_shapley\u001b[0;34m(self, ind_feat)\u001b[0m\n\u001b[1;32m    269\u001b[0m predictors \u001b[39m=\u001b[39m \u001b[39mself\u001b[39m\u001b[39m.\u001b[39mind_predictors_selected\n\u001b[1;32m    270\u001b[0m \u001b[39massert\u001b[39;00m ind_feat \u001b[39min\u001b[39;00m \u001b[39mself\u001b[39m\u001b[39m.\u001b[39mind_predictors_selected, \u001b[39m\"\u001b[39m\u001b[39mtarget_pred must be in predictors\u001b[39m\u001b[39m\"\u001b[39m\n\u001b[0;32m--> 271\u001b[0m feat \u001b[39m=\u001b[39m predictors[ind_feat]\n\u001b[1;32m    272\u001b[0m \u001b[39mif\u001b[39;00m \u001b[39mself\u001b[39m\u001b[39m.\u001b[39mlist_r_squared \u001b[39mis\u001b[39;00m \u001b[39mNone\u001b[39;00m:\n\u001b[1;32m    273\u001b[0m     \u001b[39mraise\u001b[39;00m \u001b[39mValueError\u001b[39;00m(\u001b[39m\"\u001b[39m\u001b[39mlist_r_squared cannot be None.\u001b[39m\u001b[39m\"\u001b[39m)\n",
      "\u001b[0;31mIndexError\u001b[0m: list index out of range"
     ]
    }
   ],
   "source": [
    "    print(\"=\" * 70)\n",
    "    print(\"Per predictor Shapley value (normalized basis).\")\n",
    "    print(sv_reg.shaps)\n",
    "    print(\"=\" * 70)\n",
    "    print(\"Coefficients of the SV regression (normalized basis).\")\n",
    "    print(sv_reg.coeffs_norm)\n",
    "    print(\"=\" * 70)\n",
    "    print(\"Coefficients of the SV regression (unnormalized basis).\")\n",
    "    print(\"sv_reg.coeffs[0] --> intercept term.\")\n",
    "    print(sv_reg.coeffs)\n",
    "    print(\"=\" * 70)\n",
    "    print(\"Checking that the Shapley Values sums up to the full model R^2.\")\n",
    "    print(sv_reg.check_norm_shap())\n",
    "    print(\"=\" * 70)"
   ]
  },
  {
   "cell_type": "code",
   "execution_count": 7,
   "metadata": {},
   "outputs": [
    {
     "data": {
      "image/png": "[encoded data removed]",
      "text/plain": [
       "<Figure size 1000x500 with 1 Axes>"
      ]
     },
     "metadata": {},
     "output_type": "display_data"
    }
   ],
   "source": [
    "sv_reg.histo_shaps()"
   ]
  },
  {
   "cell_type": "code",
   "execution_count": null,
   "metadata": {},
   "outputs": [],
   "source": []
  }
 ],
 "metadata": {
  "kernelspec": {
   "display_name": ".venv310",
   "language": "python",
   "name": "python3"
  },
  "language_info": {
   "codemirror_mode": {
    "name": "ipython",
    "version": 3
   },
   "file_extension": ".py",
   "mimetype": "text/x-python",
   "name": "python",
   "nbconvert_exporter": "python",
   "pygments_lexer": "ipython3",
   "version": "3.10.8"
  },
  "orig_nbformat": 4,
  "vscode": {
   "interpreter": {
    "hash": "7fe4921fa6b21b0607ec27c46f57ab1c68b60b3abd2683c81acbfb96e1f5e9fe"
   }
  }
 },
 "nbformat": 4,
 "nbformat_minor": 2
}
