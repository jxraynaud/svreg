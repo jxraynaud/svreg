{
 "cells": [
  {
   "cell_type": "code",
   "execution_count": 1,
   "metadata": {},
   "outputs": [],
   "source": [
    "import numpy as np\n",
    "import pandas as pd\n",
    "import matplotlib.pyplot as plt\n",
    "import seaborn as sns\n",
    "\n",
    "from sklearn.linear_model import LinearRegression\n",
    "from sklearn.preprocessing import StandardScaler\n",
    "from scipy.stats import pearsonr\n",
    "from icecream import ic\n",
    "\n",
    "# Fixing numpy random seed (used by sklearn) for reproducibility:\n",
    "np.random.seed(seed=4242)\n",
    "\n",
    "path_dataset = \"data/base_test_sv_reg_working.csv\"\n",
    "data_sv = pd.read_csv(path_dataset,\n",
    "                      index_col=\"date\",\n",
    "                      parse_dates=True,\n",
    "                      infer_datetime_format=True)\n",
    "\n",
    "# Dropping irrelevant \"Segment\" column:\n",
    "# data_sv = data_sv.drop(labels=\"Segment\", axis=1)\n",
    "# Normalizing columns names:\n",
    "data_sv.columns = data_sv.columns.str.strip().str.replace(\" \", \"_\")\n",
    "data_sv.columns = data_sv.columns.str.lower()"
   ]
  },
  {
   "cell_type": "code",
   "execution_count": 3,
   "metadata": {},
   "outputs": [
    {
     "data": {
      "text/plain": [
       "qlead_auto                  0\n",
       "sem_brand_clics             0\n",
       "sem_pure_generic_clics      0\n",
       "sem_brand_auto_clics        0\n",
       "sem_generic_auto_clics      0\n",
       "sem_brand_energy_clics      0\n",
       "sem_generic_energy_clics    0\n",
       "sem_brand_santé_clics       0\n",
       "sem_generic_santé_clics     0\n",
       "sem_brand_home_clics        0\n",
       "sem_generic_home_clics      0\n",
       "sem_brand_other_clics       0\n",
       "sem_generic_other_clics     0\n",
       "seo_all                     0\n",
       "organic_social_lf_vues      0\n",
       "paid_social_lf_clics        0\n",
       "paid_social_vollf_clics     0\n",
       "gdn_auto_clics              0\n",
       "gdn_santé_clics             0\n",
       "affiliation_all_clics       0\n",
       "direct_all_clics            0\n",
       "cycledevie_nbouverture      1\n",
       "tactique_nbouverture        1\n",
       "display_perf_auto_clics     0\n",
       "display_perf_sante_clics    0\n",
       "vol_auto_start              0\n",
       "vol_autres_start            0\n",
       "vol_brand_start             0\n",
       "dtype: int64"
      ]
     },
     "execution_count": 3,
     "metadata": {},
     "output_type": "execute_result"
    }
   ],
   "source": []
  },
  {
   "cell_type": "code",
   "execution_count": 2,
   "metadata": {},
   "outputs": [
    {
     "name": "stdout",
     "output_type": "stream",
     "text": [
      "qlead_auto                  0\n",
      "sem_brand_clics             0\n",
      "sem_pure_generic_clics      0\n",
      "sem_brand_auto_clics        0\n",
      "sem_generic_auto_clics      0\n",
      "sem_brand_energy_clics      0\n",
      "sem_generic_energy_clics    0\n",
      "sem_brand_santé_clics       0\n",
      "sem_generic_santé_clics     0\n",
      "sem_brand_home_clics        0\n",
      "sem_generic_home_clics      0\n",
      "sem_brand_other_clics       0\n",
      "sem_generic_other_clics     0\n",
      "seo_all                     0\n",
      "organic_social_lf_vues      0\n",
      "paid_social_lf_clics        0\n",
      "paid_social_vollf_clics     0\n",
      "gdn_auto_clics              0\n",
      "gdn_santé_clics             0\n",
      "affiliation_all_clics       0\n",
      "direct_all_clics            0\n",
      "cycledevie_nbouverture      1\n",
      "tactique_nbouverture        1\n",
      "display_perf_auto_clics     0\n",
      "display_perf_sante_clics    0\n",
      "vol_auto_start              0\n",
      "vol_autres_start            0\n",
      "vol_brand_start             0\n",
      "dtype: int64\n"
     ]
    }
   ],
   "source": [
    "# Counting the number of missing values per column.\n",
    "print(data_sv.isna().sum())"
   ]
  },
  {
   "cell_type": "code",
   "execution_count": 3,
   "metadata": {},
   "outputs": [],
   "source": [
    "# Only one row contains missing values, we just delete it.\n",
    "data_sv = data_sv.dropna(axis=0)"
   ]
  },
  {
   "cell_type": "code",
   "execution_count": 4,
   "metadata": {},
   "outputs": [
    {
     "name": "stdout",
     "output_type": "stream",
     "text": [
      "643 rows in the dataset.\n",
      "27 features in the dataset.\n"
     ]
    }
   ],
   "source": [
    "# Splitting dataset in features and target.\n",
    "x_features = data_sv.drop(labels=\"qlead_auto\", axis=1)\n",
    "y_target = data_sv[\"qlead_auto\"]\n",
    "\n",
    "nb_rows, nb_features = x_features.shape\n",
    "print(f\"{nb_rows} rows in the dataset.\")\n",
    "print(f\"{nb_features} features in the dataset.\")"
   ]
  },
  {
   "cell_type": "code",
   "execution_count": 5,
   "metadata": {},
   "outputs": [],
   "source": [
    "# Compute the correlation matrix\n",
    "corr = x_features.corr()\n",
    "\n",
    "# Generate a mask for the upper triangle\n",
    "mask = np.triu(np.ones_like(corr, dtype=bool))\n",
    "\n",
    "# Set up the matplotlib figure\n",
    "# f, ax = plt.subplots(figsize=(11, 9))\n",
    "\n",
    "# Generate a custom diverging colormap\n",
    "# cmap = sns.diverging_palette(230, 20, as_cmap=True)\n",
    "\n",
    "# Draw the heatmap with the mask and correct aspect ratio\n",
    "# sns.heatmap(corr, mask=mask, cmap=cmap, vmax=.3, center=0,\n",
    "#             square=True, linewidths=.5, cbar_kws={\"shrink\": .5})"
   ]
  },
  {
   "cell_type": "code",
   "execution_count": 6,
   "metadata": {},
   "outputs": [],
   "source": [
    "# sns.pairplot(x_features.iloc[:, :5])"
   ]
  },
  {
   "cell_type": "code",
   "execution_count": 7,
   "metadata": {},
   "outputs": [
    {
     "data": {
      "text/plain": [
       "PearsonRResult(statistic=0.30463084120176265, pvalue=2.83159240398074e-15)"
      ]
     },
     "execution_count": 7,
     "metadata": {},
     "output_type": "execute_result"
    }
   ],
   "source": [
    "feature_1 = x_features.sem_brand_clics.tolist()\n",
    "feature_2 = x_features.sem_brand_energy_clics.tolist()\n",
    "pearsonr(feature_1, feature_2)"
   ]
  },
  {
   "cell_type": "code",
   "execution_count": 8,
   "metadata": {},
   "outputs": [],
   "source": [
    "# Linear regression:\n",
    "scaler_x = StandardScaler()\n",
    "scaler_y = StandardScaler()\n",
    "x_features_norm = scaler_x.fit_transform(x_features)\n",
    "y_target_norm = scaler_y.fit_transform(y_target.to_numpy().reshape(-1, 1))"
   ]
  },
  {
   "cell_type": "code",
   "execution_count": 9,
   "metadata": {},
   "outputs": [
    {
     "data": {
      "text/plain": [
       "(27,)"
      ]
     },
     "execution_count": 9,
     "metadata": {},
     "output_type": "execute_result"
    }
   ],
   "source": [
    "reg = LinearRegression().fit(x_features, y_target.to_numpy().reshape(-1, 1))\n",
    "coeff_without_noise = reg.coef_.ravel()\n",
    "coeff_without_noise.shape"
   ]
  },
  {
   "cell_type": "code",
   "execution_count": 10,
   "metadata": {},
   "outputs": [],
   "source": [
    "# Adding random gaussian noise to the predictors:\n",
    "x_features_noise = x_features.copy()\n",
    "\n",
    "n_rows = x_features_noise.shape[0]\n",
    "\n",
    "for feature in x_features_noise:\n",
    "    std_feature = x_features_noise[feature].std()\n",
    "    noise = np.random.normal(0, (1/20) * std_feature, n_rows)\n",
    "    x_features_noise[feature] = x_features_noise[feature] + noise\n"
   ]
  },
  {
   "cell_type": "code",
   "execution_count": 11,
   "metadata": {},
   "outputs": [],
   "source": [
    "reg_noise = LinearRegression().fit(x_features_noise, y_target.to_numpy().reshape(-1, 1))\n",
    "coeff_with_noise = reg_noise.coef_.ravel()"
   ]
  },
  {
   "cell_type": "code",
   "execution_count": 12,
   "metadata": {},
   "outputs": [
    {
     "data": {
      "text/plain": [
       "array([ 0.18,  2.79,  1.21,  0.26,  0.98,  1.38,  1.82,  1.57, 16.23,\n",
       "        1.28,  6.77, 16.54,  0.52, 13.18, 33.28,  3.52,  6.31, 11.18,\n",
       "       20.59,  2.13,  0.92, 13.44,  3.46, 80.03,  2.24,  3.97,  3.28])"
      ]
     },
     "execution_count": 12,
     "metadata": {},
     "output_type": "execute_result"
    }
   ],
   "source": [
    "coeff_diff = coeff_with_noise - coeff_without_noise\n",
    "mean_coeff = 0.5 * (np.absolute(coeff_with_noise) + np.absolute(coeff_without_noise))\n",
    "relative_diff = 100 * (np.absolute(coeff_diff) / mean_coeff)\n",
    "relative_diff = np.around(relative_diff, decimals=2)\n",
    "relative_diff"
   ]
  },
  {
   "cell_type": "code",
   "execution_count": 13,
   "metadata": {},
   "outputs": [
    {
     "data": {
      "text/plain": [
       "array([ True,  True,  True,  True,  True,  True,  True,  True,  True,\n",
       "        True,  True,  True,  True,  True,  True,  True,  True,  True,\n",
       "        True,  True,  True,  True,  True,  True,  True,  True,  True])"
      ]
     },
     "execution_count": 13,
     "metadata": {},
     "output_type": "execute_result"
    }
   ],
   "source": [
    "sign_coeff_without_noise = np.sign(coeff_without_noise)\n",
    "sign_coeff_with_noise = np.sign(coeff_with_noise)\n",
    "\n",
    "val_sign = sign_coeff_with_noise == sign_coeff_without_noise\n",
    "val_sign"
   ]
  },
  {
   "cell_type": "code",
   "execution_count": 10,
   "metadata": {},
   "outputs": [
    {
     "name": "stdout",
     "output_type": "stream",
     "text": [
      "(1, 2, 8)\n",
      "(1, 5, 8)\n",
      "(1, 8, 10)\n",
      "(2, 5, 8)\n",
      "(2, 8, 10)\n",
      "(5, 8, 10)\n"
     ]
    }
   ],
   "source": [
    "# Test: generate all combinations of elements of an iterable that contains a certains element.\n",
    "\n",
    "from itertools import chain, combinations\n",
    "def all_subsets(my_iter):\n",
    "    return chain(*map(lambda x: combinations(my_iter, x), range(0, len(my_iter) + 1)))\n",
    "\n",
    "my_iter = (1, 2, 5, 8, 10)\n",
    "\n",
    "# for subset in all_subsets(my_iter):\n",
    "#     print(subset)\n",
    "\n",
    "\n",
    "for subset in filter(lambda x: 8 in x, combinations(my_iter, 3)):\n",
    "    print(subset)\n"
   ]
  },
  {
   "cell_type": "code",
   "execution_count": 4,
   "metadata": {},
   "outputs": [
    {
     "data": {
      "text/plain": [
       "8"
      ]
     },
     "execution_count": 4,
     "metadata": {},
     "output_type": "execute_result"
    }
   ],
   "source": [
    "2**3\n"
   ]
  },
  {
   "cell_type": "code",
   "execution_count": 15,
   "metadata": {},
   "outputs": [
    {
     "data": {
      "text/plain": [
       "True"
      ]
     },
     "execution_count": 15,
     "metadata": {},
     "output_type": "execute_result"
    }
   ],
   "source": [
    "dum_it = (5, 20, 8)\n",
    "\n",
    "all( 0 <= elem <= 26 for elem in dum_it)"
   ]
  },
  {
   "cell_type": "code",
   "execution_count": 1,
   "metadata": {},
   "outputs": [
    {
     "name": "stdout",
     "output_type": "stream",
     "text": [
      "\u001b[0;31mSignature:\u001b[0m \u001b[0mpatch_sklearn\u001b[0m\u001b[0;34m(\u001b[0m\u001b[0mname\u001b[0m\u001b[0;34m=\u001b[0m\u001b[0;32mNone\u001b[0m\u001b[0;34m,\u001b[0m \u001b[0mverbose\u001b[0m\u001b[0;34m=\u001b[0m\u001b[0;32mTrue\u001b[0m\u001b[0;34m,\u001b[0m \u001b[0mglobal_patch\u001b[0m\u001b[0;34m=\u001b[0m\u001b[0;32mFalse\u001b[0m\u001b[0;34m)\u001b[0m\u001b[0;34m\u001b[0m\u001b[0;34m\u001b[0m\u001b[0m\n",
      "\u001b[0;31mDocstring:\u001b[0m <no docstring>\n",
      "\u001b[0;31mFile:\u001b[0m      ~/miniconda3/envs/sv_regression/lib/python3.10/site-packages/sklearnex/dispatcher.py\n",
      "\u001b[0;31mType:\u001b[0m      function\n"
     ]
    }
   ],
   "source": [
    "from sklearnex import patch_sklearn\n",
    "?patch_sklearn\n"
   ]
  },
  {
   "cell_type": "code",
   "execution_count": 8,
   "metadata": {},
   "outputs": [
    {
     "name": "stdout",
     "output_type": "stream",
     "text": [
      "[[0 1 2 3]\n",
      " [4 5 6 7]]\n",
      "[[1 3]\n",
      " [5 7]]\n"
     ]
    }
   ],
   "source": [
    "import numpy as np\n",
    "dum_array = np.arange(8).reshape(2, 4)\n",
    "mask_bool = [False, True, False, True]\n",
    "print(dum_array)\n",
    "print(dum_array[:, mask_bool])"
   ]
  },
  {
   "cell_type": "code",
   "execution_count": 19,
   "metadata": {},
   "outputs": [
    {
     "name": "stdout",
     "output_type": "stream",
     "text": [
      "[0, 1, 0, 1]\n",
      "5\n"
     ]
    }
   ],
   "source": [
    "predictors_full = [0, 1, 2, 3]\n",
    "num_predictors_full = 4\n",
    "predictors = [1, 3]\n",
    "target = 2\n",
    "\n",
    "bin_predictors = [1 if x in predictors else 0 for x in range(4)]\n",
    "res = int(\"\".join(str(x) for x in bin_predictors), 2)\n",
    "print(bin_predictors)\n",
    "print(res)\n"
   ]
  },
  {
   "cell_type": "code",
   "execution_count": 20,
   "metadata": {},
   "outputs": [
    {
     "data": {
      "text/plain": [
       "[0, 1, 3]"
      ]
     },
     "execution_count": 20,
     "metadata": {},
     "output_type": "execute_result"
    }
   ],
   "source": [
    "predictors_full.remove(target)\n",
    "predictors_full"
   ]
  },
  {
   "cell_type": "code",
   "execution_count": 22,
   "metadata": {},
   "outputs": [
    {
     "data": {
      "text/plain": [
       "[0, 1, 2]"
      ]
     },
     "execution_count": 22,
     "metadata": {},
     "output_type": "execute_result"
    }
   ],
   "source": [
    "list((0, 1, 2))"
   ]
  }
 ],
 "metadata": {
  "kernelspec": {
   "display_name": "Python 3.10.8 ('sv_regression')",
   "language": "python",
   "name": "python3"
  },
  "language_info": {
   "codemirror_mode": {
    "name": "ipython",
    "version": 3
   },
   "file_extension": ".py",
   "mimetype": "text/x-python",
   "name": "python",
   "nbconvert_exporter": "python",
   "pygments_lexer": "ipython3",
   "version": "3.10.8"
  },
  "orig_nbformat": 4,
  "vscode": {
   "interpreter": {
    "hash": "210e5ba756bc4eb175fc760fbcc8573744089a209c87d3aaab575d1fff33d56d"
   }
  }
 },
 "nbformat": 4,
 "nbformat_minor": 2
}
